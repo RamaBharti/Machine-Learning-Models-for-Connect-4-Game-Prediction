{
  "nbformat": 4,
  "nbformat_minor": 0,
  "metadata": {
    "colab": {
      "provenance": [],
      "include_colab_link": true
    },
    "kernelspec": {
      "name": "python3",
      "display_name": "Python 3"
    },
    "language_info": {
      "name": "python"
    }
  },
  "cells": [
    {
      "cell_type": "markdown",
      "metadata": {
        "id": "view-in-github",
        "colab_type": "text"
      },
      "source": [
        "<a href=\"https://colab.research.google.com/github/RamaBharti/Machine-Learning-Models-for-Connect-4-Game-Prediction/blob/master/q1_svm.ipynb\" target=\"_parent\"><img src=\"https://colab.research.google.com/assets/colab-badge.svg\" alt=\"Open In Colab\"/></a>"
      ]
    },
    {
      "cell_type": "code",
      "execution_count": null,
      "metadata": {
        "colab": {
          "base_uri": "https://localhost:8080/"
        },
        "id": "9fQLYAxEegtI",
        "outputId": "0367520d-e47d-4f40-f92c-2a1a7e079cc2"
      },
      "outputs": [
        {
          "output_type": "stream",
          "name": "stdout",
          "text": [
            "--2023-03-28 18:28:52--  https://archive.ics.uci.edu/ml/machine-learning-databases/connect-4/connect-4.data.Z\n",
            "Resolving archive.ics.uci.edu (archive.ics.uci.edu)... 128.195.10.252\n",
            "Connecting to archive.ics.uci.edu (archive.ics.uci.edu)|128.195.10.252|:443... connected.\n",
            "HTTP request sent, awaiting response... 200 OK\n",
            "Length: 403464 (394K) [application/x-httpd-php]\n",
            "Saving to: ‘connect-4.data.Z’\n",
            "\n",
            "connect-4.data.Z    100%[===================>] 394.01K   609KB/s    in 0.6s    \n",
            "\n",
            "2023-03-28 18:28:53 (609 KB/s) - ‘connect-4.data.Z’ saved [403464/403464]\n",
            "\n",
            "Accuracy: 0.7743487270574304\n",
            "Precision: 0.5088255462683898\n",
            "Recall: 0.5140669475078883\n",
            "F1-score: 0.5051012050386011\n",
            "Confusion matrix:\n",
            " [[1947 1394    0]\n",
            " [ 360 8516    0]\n",
            " [ 306  989    0]]\n"
          ]
        },
        {
          "output_type": "stream",
          "name": "stderr",
          "text": [
            "/usr/local/lib/python3.9/dist-packages/sklearn/metrics/_classification.py:1344: UndefinedMetricWarning: Precision is ill-defined and being set to 0.0 in labels with no predicted samples. Use `zero_division` parameter to control this behavior.\n",
            "  _warn_prf(average, modifier, msg_start, len(result))\n"
          ]
        },
        {
          "output_type": "stream",
          "name": "stdout",
          "text": [
            "Accuracy_cross: 0.77 +/- 0.00\n",
            "Best parameters: {'kernel': 'rbf', 'gamma': 1, 'C': 10}\n",
            "Accuracy_random: 0.7966992303137952\n",
            "Accuracy_random_best: 0.7966992303137952\n",
            "Precision: 0.7162806644419527\n",
            "Recall: 0.5568876631188676\n",
            "F1-score: 0.5790845723584098\n",
            "Confusion matrix:\n",
            " [[1983 1287   71]\n",
            " [ 182 8649   45]\n",
            " [ 264  898  133]]\n"
          ]
        }
      ],
      "source": [
        "!wget https://archive.ics.uci.edu/ml/machine-learning-databases/connect-4/connect-4.data.Z\n",
        "!uncompress connect-4.data.Z\n",
        "\n",
        "\n",
        "import urllib.request\n",
        "import pandas as pd\n",
        "import gzip\n",
        "import numpy as np\n",
        "from sklearn.model_selection import train_test_split, GridSearchCV, RandomizedSearchCV\n",
        "from sklearn.metrics import accuracy_score, precision_score, recall_score, f1_score, confusion_matrix\n",
        "from sklearn.svm import SVC\n",
        "from sklearn.model_selection import cross_val_score\n",
        "from sklearn.preprocessing import MinMaxScaler\n",
        "#from sklearn.datasets import fetch_openml\n",
        "\n",
        "\n",
        "# Define mapping for 'b', 'o', and 'x'\n",
        "mapping = {'b': 0, 'o': 1, 'x': 2}\n",
        "\n",
        "# Read dataset and replace values with integers\n",
        "df = pd.read_csv('connect-4.data', header=None)\n",
        "df.replace(mapping, inplace=True)\n",
        "\n",
        "# Define mapping for 'won', 'loss', and 'draw'\n",
        "outcome_mapping = {'win': 1, 'loss': 0, 'draw': 2}\n",
        "\n",
        "# Replace outcome values with integers\n",
        "df.replace(outcome_mapping, inplace=True)\n",
        "\n",
        "\n",
        "#df = pd.read_csv('connect-4.data', header=None)\n",
        "\n",
        "\n",
        "# Separate the target variable from the rest of the data\n",
        "X = df.iloc[:, :-1]\n",
        "y = df.iloc[:, -1]\n",
        "X_train, X_test, y_train, y_test = train_test_split(X, y, test_size=0.2, random_state=42)\n",
        "\n",
        "\n",
        "scaler = MinMaxScaler()\n",
        "X_train_scaled = scaler.fit_transform(X_train)\n",
        "\n",
        "svm_model = SVC()\n",
        "svm_model.fit(X_train,y_train)\n",
        "y_pred = svm_model.predict(X_test)\n",
        "print('Accuracy:', accuracy_score(y_test, y_pred))\n",
        "print(\"Precision:\", precision_score(y_test, y_pred, average='macro'))\n",
        "print(\"Recall:\", recall_score(y_test, y_pred, average='macro'))\n",
        "print(\"F1-score:\", f1_score(y_test, y_pred, average='macro'))\n",
        "print(\"Confusion matrix:\\n\", confusion_matrix(y_test, y_pred))\n",
        "\n",
        "\n",
        "scores = cross_val_score(svm_model, X_train, y_train, cv=5)\n",
        "print(f\"Accuracy_cross: {scores.mean():.2f} +/- {scores.std():.2f}\")\n",
        "\n",
        "\n",
        "\"\"\"\n",
        "param_grid = {'C': [0.1, 1, 10],\n",
        "              'kernel': ['linear', 'rbf', 'sigmoid'],\n",
        "              'gamma': [0.01, 0.1, 1]}\n",
        "svm_grid = GridSearchCV(svm_model, param_grid, cv=5, n_jobs=-1)\n",
        "svm_grid.fit(X_train, y_train)\n",
        "print('Best parameters:', svm_grid.best_params_)\n",
        "y_pred = svm_grid.predict(X_test)\n",
        "print('Accuracy_grid:', accuracy_score(y_test, y_pred))\n",
        "svmg=svm_grid.best_estimator_\n",
        "y_pred =svmg.predict(X_test)\n",
        "print('Accuracy_grid_best:', accuracy_score(y_test, y_pred))\n",
        "\"\"\"\n",
        "param_dist = {'C': [0.1, 1, 10],\n",
        "              'kernel': ['linear', 'rbf'],\n",
        "              'gamma': [0.01, 0.1, 1]}\n",
        "svm_random = RandomizedSearchCV(svm_model, param_dist, cv=5, n_jobs=-1)\n",
        "svm_random.fit(X_train, y_train)\n",
        "print('Best parameters:', svm_random.best_params_)\n",
        "y_pred = svm_random.predict(X_test)\n",
        "print('Accuracy_random:', accuracy_score(y_test, y_pred))\n",
        "svmr=svm_random.best_estimator_\n",
        "y_pred =svmr.predict(X_test)\n",
        "print('Accuracy_random_best:', accuracy_score(y_test, y_pred))\n",
        "print(\"Precision:\", precision_score(y_test, y_pred, average='macro'))\n",
        "print(\"Recall:\", recall_score(y_test, y_pred, average='macro'))\n",
        "print(\"F1-score:\", f1_score(y_test, y_pred, average='macro'))\n",
        "print(\"Confusion matrix:\\n\", confusion_matrix(y_test, y_pred))"
      ]
    }
  ]
}