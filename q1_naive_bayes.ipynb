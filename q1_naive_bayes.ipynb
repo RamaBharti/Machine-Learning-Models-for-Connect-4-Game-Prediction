{
  "nbformat": 4,
  "nbformat_minor": 0,
  "metadata": {
    "colab": {
      "provenance": [],
      "include_colab_link": true
    },
    "kernelspec": {
      "name": "python3",
      "display_name": "Python 3"
    },
    "language_info": {
      "name": "python"
    }
  },
  "cells": [
    {
      "cell_type": "markdown",
      "metadata": {
        "id": "view-in-github",
        "colab_type": "text"
      },
      "source": [
        "<a href=\"https://colab.research.google.com/github/RamaBharti/Machine-Learning-Models-for-Connect-4-Game-Prediction/blob/master/q1_naive_bayes.ipynb\" target=\"_parent\"><img src=\"https://colab.research.google.com/assets/colab-badge.svg\" alt=\"Open In Colab\"/></a>"
      ]
    },
    {
      "cell_type": "code",
      "execution_count": null,
      "metadata": {
        "colab": {
          "base_uri": "https://localhost:8080/"
        },
        "id": "X-baHJ2vTJeg",
        "outputId": "84dd5d11-bf66-49c4-8ca0-7fc969ca46b7"
      },
      "outputs": [
        {
          "output_type": "stream",
          "name": "stdout",
          "text": [
            "--2023-03-28 17:39:21--  https://archive.ics.uci.edu/ml/machine-learning-databases/connect-4/connect-4.data.Z\n",
            "Resolving archive.ics.uci.edu (archive.ics.uci.edu)... 128.195.10.252\n",
            "Connecting to archive.ics.uci.edu (archive.ics.uci.edu)|128.195.10.252|:443... connected.\n",
            "HTTP request sent, awaiting response... 200 OK\n",
            "Length: 403464 (394K) [application/x-httpd-php]\n",
            "Saving to: ‘connect-4.data.Z’\n",
            "\n",
            "connect-4.data.Z    100%[===================>] 394.01K  1.91MB/s    in 0.2s    \n",
            "\n",
            "2023-03-28 17:39:21 (1.91 MB/s) - ‘connect-4.data.Z’ saved [403464/403464]\n",
            "\n",
            "Accuracy_nb: 0.6306986382474837\n",
            "Precision: 0.40045654002385284\n",
            "Recall: 0.3536376176091896\n",
            "F1-score: 0.3191488682682917\n",
            "Confusion matrix:\n",
            " [[ 116 3010  215]\n",
            " [ 156 8286  434]\n",
            " [  34 1141  120]]\n",
            "Best Parameters: {'nb__alpha': 0.1}\n",
            "Best Score: 0.6583217688962902\n",
            "Accuracy_grid: 0.6567495559502664\n",
            "Precision: 0.32159267258163476\n",
            "Recall: 0.33413760763918493\n",
            "F1-score: 0.26632178998741457\n",
            "Confusion matrix:\n",
            " [[   0 3338    3]\n",
            " [   0 8870    6]\n",
            " [   0 1291    4]]\n",
            "Accuracy_nbc: 0.6567495559502664\n",
            "Precision: 0.32159267258163476\n",
            "Recall: 0.33413760763918493\n",
            "F1-score: 0.26632178998741457\n",
            "Confusion matrix:\n",
            " [[   0 3338    3]\n",
            " [   0 8870    6]\n",
            " [   0 1291    4]]\n"
          ]
        },
        {
          "output_type": "stream",
          "name": "stderr",
          "text": [
            "/usr/local/lib/python3.9/dist-packages/sklearn/metrics/_classification.py:1344: UndefinedMetricWarning: Precision is ill-defined and being set to 0.0 in labels with no predicted samples. Use `zero_division` parameter to control this behavior.\n",
            "  _warn_prf(average, modifier, msg_start, len(result))\n",
            "/usr/local/lib/python3.9/dist-packages/sklearn/metrics/_classification.py:1344: UndefinedMetricWarning: Precision is ill-defined and being set to 0.0 in labels with no predicted samples. Use `zero_division` parameter to control this behavior.\n",
            "  _warn_prf(average, modifier, msg_start, len(result))\n"
          ]
        }
      ],
      "source": [
        "!wget https://archive.ics.uci.edu/ml/machine-learning-databases/connect-4/connect-4.data.Z\n",
        "!uncompress connect-4.data.Z\n",
        "\n",
        "import pandas as pd\n",
        "from sklearn.model_selection import GridSearchCV, cross_val_score\n",
        "from scipy.stats import randint\n",
        "from sklearn.model_selection import RandomizedSearchCV\n",
        "from sklearn.model_selection import train_test_split\n",
        "from sklearn.metrics import accuracy_score, precision_score, recall_score, f1_score, confusion_matrix\n",
        "import numpy as np\n",
        "from sklearn.naive_bayes import MultinomialNB\n",
        "from sklearn.pipeline import Pipeline\n",
        "from sklearn.preprocessing import MinMaxScaler\n",
        "\n",
        "\n",
        "\n",
        "\n",
        "\n",
        "# Define mapping for 'b', 'o', and 'x'\n",
        "mapping = {'b': 0, 'o': 1, 'x': 2}\n",
        "\n",
        "# Read dataset and replace values with integers\n",
        "df = pd.read_csv('connect-4.data', header=None)\n",
        "df.replace(mapping, inplace=True)\n",
        "\n",
        "# Define mapping for 'won', 'loss', and 'draw'\n",
        "outcome_mapping = {'win': 1, 'loss': 0, 'draw': 2}\n",
        "\n",
        "# Replace outcome values with integers\n",
        "df.replace(outcome_mapping, inplace=True)\n",
        "\n",
        "\n",
        "\n",
        "#df = pd.read_csv('connect-4.data', header=None)\n",
        "\n",
        "\n",
        "\n",
        "# Separate the target variable from the rest of the data\n",
        "X = df.iloc[:, :-1]\n",
        "y = df.iloc[:, -1]\n",
        "X_train, X_test, y_train, y_test = train_test_split(X, y, test_size=0.2, random_state=42)\n",
        "\n",
        "\n",
        "scaler = MinMaxScaler()\n",
        "X_train_scaled = scaler.fit_transform(X_train)\n",
        "\n",
        "nb = MultinomialNB()\n",
        "nb.fit(X_train, y_train)\n",
        "y_pred =nb.predict(X_test)\n",
        "print('Accuracy_nb:', accuracy_score(y_test, y_pred))\n",
        "print(\"Precision:\", precision_score(y_test, y_pred, average='macro'))\n",
        "print(\"Recall:\", recall_score(y_test, y_pred, average='macro'))\n",
        "print(\"F1-score:\", f1_score(y_test, y_pred, average='macro'))\n",
        "print(\"Confusion matrix:\\n\", confusion_matrix(y_test, y_pred))\n",
        "\n",
        "pipe = Pipeline([('scaler', MinMaxScaler()), ('nb', nb)])\n",
        "params = {'nb__alpha': [0.95, 0.97, 0.99, 0.1, 0.2, 0.3, 0.4, 0.5, 1.0, 1.5, 2.0]}\n",
        "grid = GridSearchCV(pipe, param_grid=params, cv=5)\n",
        "grid.fit(X_train, y_train)\n",
        "print('Best Parameters:', grid.best_params_)\n",
        "print('Best Score:', grid.best_score_)\n",
        "#best_params=grid.best_score_\n",
        "y_pred = grid.predict(X_test)\n",
        "print('Accuracy_grid:', accuracy_score(y_test, y_pred))\n",
        "print(\"Precision:\", precision_score(y_test, y_pred, average='macro'))\n",
        "print(\"Recall:\", recall_score(y_test, y_pred, average='macro'))\n",
        "print(\"F1-score:\", f1_score(y_test, y_pred, average='macro'))\n",
        "print(\"Confusion matrix:\\n\", confusion_matrix(y_test, y_pred))\n",
        "\n",
        "nbc=grid.best_estimator_\n",
        "y_pred =nbc.predict(X_test)\n",
        "print('Accuracy_nbc:', accuracy_score(y_test, y_pred))\n",
        "print(\"Precision:\", precision_score(y_test, y_pred, average='macro'))\n",
        "print(\"Recall:\", recall_score(y_test, y_pred, average='macro'))\n",
        "print(\"F1-score:\", f1_score(y_test, y_pred, average='macro'))\n",
        "print(\"Confusion matrix:\\n\", confusion_matrix(y_test, y_pred))"
      ]
    }
  ]
}