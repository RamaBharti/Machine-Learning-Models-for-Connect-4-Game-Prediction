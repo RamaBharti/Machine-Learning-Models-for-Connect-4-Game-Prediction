{
  "nbformat": 4,
  "nbformat_minor": 0,
  "metadata": {
    "colab": {
      "provenance": [],
      "include_colab_link": true
    },
    "kernelspec": {
      "name": "python3",
      "display_name": "Python 3"
    },
    "language_info": {
      "name": "python"
    }
  },
  "cells": [
    {
      "cell_type": "markdown",
      "metadata": {
        "id": "view-in-github",
        "colab_type": "text"
      },
      "source": [
        "<a href=\"https://colab.research.google.com/github/RamaBharti/Machine-Learning-Models-for-Connect-4-Game-Prediction/blob/master/q1_ANN.ipynb\" target=\"_parent\"><img src=\"https://colab.research.google.com/assets/colab-badge.svg\" alt=\"Open In Colab\"/></a>"
      ]
    },
    {
      "cell_type": "code",
      "execution_count": null,
      "metadata": {
        "colab": {
          "base_uri": "https://localhost:8080/"
        },
        "id": "YK0U5M_WeqB1",
        "outputId": "1db70985-b9aa-4cdb-e197-811bd17b7ad6"
      },
      "outputs": [
        {
          "output_type": "stream",
          "name": "stdout",
          "text": [
            "--2023-03-29 02:38:17--  https://archive.ics.uci.edu/ml/machine-learning-databases/connect-4/connect-4.data.Z\n",
            "Resolving archive.ics.uci.edu (archive.ics.uci.edu)... 128.195.10.252\n",
            "Connecting to archive.ics.uci.edu (archive.ics.uci.edu)|128.195.10.252|:443... connected.\n",
            "HTTP request sent, awaiting response... 200 OK\n",
            "Length: 403464 (394K) [application/x-httpd-php]\n",
            "Saving to: ‘connect-4.data.Z’\n",
            "\n",
            "connect-4.data.Z    100%[===================>] 394.01K  1.20MB/s    in 0.3s    \n",
            "\n",
            "2023-03-29 02:38:18 (1.20 MB/s) - ‘connect-4.data.Z’ saved [403464/403464]\n",
            "\n",
            "gzip: connect-4.data already exists; do you wish to overwrite (y or n)? y\n",
            "Accuracy_ann_clf:  0.8095026642984015\n",
            "Precision: 0.6646651007828054\n",
            "Recall: 0.6087036653571164\n",
            "F1-score: 0.6154764731680594\n",
            "Confusion matrix:\n",
            " [[2510  673  158]\n",
            " [ 522 8238  116]\n",
            " [ 429  676  190]]\n"
          ]
        },
        {
          "output_type": "stream",
          "name": "stderr",
          "text": [
            "/usr/local/lib/python3.9/dist-packages/sklearn/neural_network/_multilayer_perceptron.py:686: ConvergenceWarning: Stochastic Optimizer: Maximum iterations (200) reached and the optimization hasn't converged yet.\n",
            "  warnings.warn(\n"
          ]
        },
        {
          "output_type": "stream",
          "name": "stdout",
          "text": [
            "Cross-Validation Scores:  [0.81071329 0.81052826 0.81043575 0.80803035 0.80682764]\n"
          ]
        },
        {
          "output_type": "stream",
          "name": "stderr",
          "text": [
            "/usr/local/lib/python3.9/dist-packages/sklearn/neural_network/_multilayer_perceptron.py:686: ConvergenceWarning: Stochastic Optimizer: Maximum iterations (200) reached and the optimization hasn't converged yet.\n",
            "  warnings.warn(\n"
          ]
        },
        {
          "output_type": "stream",
          "name": "stdout",
          "text": [
            "Best Hyperparameters:  {'activation': 'tanh', 'alpha': 0.01, 'hidden_layer_sizes': (100,), 'solver': 'adam'}\n",
            "Best Score:  0.8194097511333148\n",
            "Accuracy_grid:  0.8177175843694494\n",
            "Precision: 0.6785424860389219\n",
            "Recall: 0.6290690492534138\n",
            "F1-score: 0.6246125081276042\n",
            "Confusion matrix:\n",
            " [[2788  464   89]\n",
            " [ 666 8076  134]\n",
            " [ 571  539  185]]\n",
            "Cross-Validation Scores:  [0.8143214  0.805995   0.79239523 0.8035896  0.80756777]\n",
            "Accuracy of best:  0.8163854351687388\n",
            "Precision: 0.6768466994212531\n",
            "Recall: 0.6394487510218647\n",
            "F1-score: 0.650521638981525\n",
            "Confusion matrix:\n",
            " [[2524  596  221]\n",
            " [ 452 8197  227]\n",
            " [ 401  584  310]]\n"
          ]
        },
        {
          "output_type": "stream",
          "name": "stderr",
          "text": [
            "/usr/local/lib/python3.9/dist-packages/sklearn/neural_network/_multilayer_perceptron.py:686: ConvergenceWarning: Stochastic Optimizer: Maximum iterations (200) reached and the optimization hasn't converged yet.\n",
            "  warnings.warn(\n"
          ]
        }
      ],
      "source": [
        "!wget https://archive.ics.uci.edu/ml/machine-learning-databases/connect-4/connect-4.data.Z\n",
        "!uncompress connect-4.data.Z\n",
        "\n",
        "\n",
        "import urllib.request\n",
        "import gzip\n",
        "import numpy as np\n",
        "import pandas as pd\n",
        "from sklearn.neural_network import MLPClassifier\n",
        "from sklearn.model_selection import cross_val_score\n",
        "from sklearn.model_selection import GridSearchCV\n",
        "from sklearn.pipeline import Pipeline\n",
        "from sklearn.preprocessing import MinMaxScaler\n",
        "from scipy.stats import randint\n",
        "from sklearn.metrics import accuracy_score\n",
        "from sklearn.metrics import accuracy_score, precision_score, recall_score, f1_score, confusion_matrix\n",
        "from sklearn.model_selection import train_test_split, RandomizedSearchCV\n",
        "\n",
        "# Define mapping for 'b', 'o', and 'x'\n",
        "mapping = {'b': 0, 'o': 1, 'x': 2}\n",
        "\n",
        "# Read dataset and replace values with integers\n",
        "df = pd.read_csv('connect-4.data', header=None)\n",
        "df.replace(mapping, inplace=True)\n",
        "\n",
        "# Define mapping for 'won', 'loss', and 'draw'\n",
        "outcome_mapping = {'win': 1, 'loss': 0, 'draw': 2}\n",
        "\n",
        "# Replace outcome values with integers\n",
        "df.replace(outcome_mapping, inplace=True)\n",
        "\n",
        "\n",
        "\n",
        "#df = pd.read_csv('connect-4.data', header=None)\n",
        "\n",
        "\n",
        "\n",
        "# Separate the target variable from the rest of the data\n",
        "X = df.iloc[:, :-1]\n",
        "y = df.iloc[:, -1]\n",
        "X_train, X_test, y_train, y_test = train_test_split(X, y, test_size=0.2, random_state=42)\n",
        "\n",
        "\n",
        "\n",
        "# Create an ANN classifier\n",
        "ann_clf = MLPClassifier()\n",
        "ann_clf.fit(X_train, y_train)\n",
        "y_pred = ann_clf.predict(X_test)\n",
        "accuracy = accuracy_score(y_test, y_pred)\n",
        "print('Accuracy_ann_clf: ', accuracy)\n",
        "print(\"Precision:\", precision_score(y_test, y_pred, average='macro'))\n",
        "print(\"Recall:\", recall_score(y_test, y_pred, average='macro'))\n",
        "print(\"F1-score:\", f1_score(y_test, y_pred, average='macro'))\n",
        "print(\"Confusion matrix:\\n\", confusion_matrix(y_test, y_pred))\n",
        "\n",
        "scores = cross_val_score(ann_clf, X_train, y_train, cv=5, n_jobs=-1)\n",
        "# Print the cross-validation scores\n",
        "print('Cross-Validation Scores: ', scores)\n",
        "\n",
        "# Define the hyperparameters for grid search\n",
        "param_grid = {\n",
        "    'hidden_layer_sizes': [(100,), (100, 50), (50,)],\n",
        "    'activation': ['relu', 'tanh', 'logistic'],\n",
        "    'solver': ['adam', 'sgd'],\n",
        "    'alpha': [0.0001, 0.001, 0.01]\n",
        "}\n",
        "\n",
        "# Perform grid search with cross-validation\n",
        "grid_search = GridSearchCV(ann_clf, param_grid, cv=3, n_jobs=-1)\n",
        "grid_search.fit(X_train, y_train)\n",
        "\n",
        "# Print the best hyperparameters and score\n",
        "print('Best Hyperparameters: ', grid_search.best_params_)\n",
        "print('Best Score: ', grid_search.best_score_)\n",
        "best_model = grid_search.best_estimator_\n",
        "y_pred = best_model.predict(X_test)\n",
        "\n",
        "# Calculate the evaluation metrics\n",
        "accuracy = accuracy_score(y_test, y_pred)\n",
        "print('Accuracy_grid: ', accuracy)\n",
        "print(\"Precision:\", precision_score(y_test, y_pred, average='macro'))\n",
        "print(\"Recall:\", recall_score(y_test, y_pred, average='macro'))\n",
        "print(\"F1-score:\", f1_score(y_test, y_pred, average='macro'))\n",
        "print(\"Confusion matrix:\\n\", confusion_matrix(y_test, y_pred))\n",
        "\n",
        "\n",
        "# Create an ANN classifier with best hyperparameters\n",
        "ann_clf = MLPClassifier(hidden_layer_sizes=(100, 50), activation='relu', solver='adam', alpha=0.0001)\n",
        "\n",
        "# Evaluate the ANN classifier using k-fold cross-validation\n",
        "scores = cross_val_score(ann_clf, X_train, y_train, cv=5, n_jobs=-1)\n",
        "# Print the cross-validation scores\n",
        "print('Cross-Validation Scores: ', scores)\n",
        "ann_clf.fit(X_train,y_train)\n",
        "# Make predictions on the test set\n",
        "y_pred = ann_clf.predict(X_test)\n",
        "\n",
        "# Calculate the evaluation metrics\n",
        "accuracy = accuracy_score(y_test, y_pred)\n",
        "print('Accuracy of best: ', accuracy)\n",
        "print(\"Precision:\", precision_score(y_test, y_pred, average='macro'))\n",
        "print(\"Recall:\", recall_score(y_test, y_pred, average='macro'))\n",
        "print(\"F1-score:\", f1_score(y_test, y_pred, average='macro'))\n",
        "print(\"Confusion matrix:\\n\", confusion_matrix(y_test, y_pred))"
      ]
    }
  ]
}